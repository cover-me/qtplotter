{
 "cells": [
  {
   "cell_type": "markdown",
   "metadata": {},
   "source": [
    "# Initialize and get the file list"
   ]
  },
  {
   "cell_type": "code",
   "execution_count": 1,
   "metadata": {},
   "outputs": [],
   "source": [
    "# For more information, please visit https://github.com/cover-me/qtplotter\n",
    "# Make sure qtplotter.py is in the same folder as this notebook.\n",
    "from qtplotter import *\n",
    "%matplotlib widget"
   ]
  },
  {
   "cell_type": "markdown",
   "metadata": {},
   "source": [
    "# Get a url list of data from arxiv"
   ]
  },
  {
   "cell_type": "code",
   "execution_count": 2,
   "metadata": {},
   "outputs": [
    {
     "name": "stdout",
     "output_type": "stream",
     "text": [
      "Data source: https://arxiv.org/src/1912.06071v1/anc/\n",
      "Please select a data file:\n"
     ]
    },
    {
     "data": {
      "application/vnd.jupyter.widget-view+json": {
       "model_id": "dd536460ce514648abbf3f08114816fc",
       "version_major": 2,
       "version_minor": 0
      },
      "text/plain": [
       "Dropdown(options=('fig1d', 'fig2b', 'fig2c_1', 'fig2c_2', 'fig3b', 'fig3c', 'fig3d', 'fig3e', 'fig3f', 'figs1_…"
      ]
     },
     "metadata": {},
     "output_type": "display_data"
    }
   ],
   "source": [
    "import re\n",
    "url = 'https://arxiv.org/src/1912.06071v1/anc/'\n",
    "_ = urlopen(url).read().decode()\n",
    "_ = re.findall('>([^\"]+mtx)<',_)\n",
    "url_list = [url+i for i in _]\n",
    "name_list = [i.replace('.mtx','').lower() for i in _]\n",
    "flist = dict(zip(name_list,url_list))\n",
    "\n",
    "dd = widgets.Dropdown(options=name_list,value=name_list[0],description='')\n",
    "print('Data source: ' + url)\n",
    "print('Please select a data file:')\n",
    "dd"
   ]
  },
  {
   "cell_type": "markdown",
   "metadata": {},
   "source": [
    "# Interact with the data"
   ]
  },
  {
   "cell_type": "code",
   "execution_count": 3,
   "metadata": {},
   "outputs": [
    {
     "name": "stdout",
     "output_type": "stream",
     "text": [
      "You are in widget mode. If you don't like it, use \"%matplotlib widget\" and \"%matplotlib inline\" to switch between backends\n"
     ]
    },
    {
     "data": {
      "application/vnd.jupyter.widget-view+json": {
       "model_id": "f569579784654c4aaf4fce61155e481e",
       "version_major": 2,
       "version_minor": 0
      },
      "text/plain": [
       "Tab(children=(VBox(children=(FloatSlider(value=2.0, description='x', max=4.0, step=0.03333333333333333), Float…"
      ]
     },
     "metadata": {},
     "output_type": "display_data"
    },
    {
     "data": {
      "application/vnd.jupyter.widget-view+json": {
       "model_id": "243741e9fc5d4620a8fa8853208b3f83",
       "version_major": 2,
       "version_minor": 0
      },
      "text/plain": [
       "Canvas(toolbar=Toolbar(toolitems=[('Home', 'Reset original view', 'home', 'home'), ('Back', 'Back to previous …"
      ]
     },
     "metadata": {},
     "output_type": "display_data"
    }
   ],
   "source": [
    "url_or_path = flist[dd.value]\n",
    "play(url_or_path)"
   ]
  },
  {
   "cell_type": "markdown",
   "metadata": {},
   "source": [
    "## Switch back to inline mode if necessary"
   ]
  },
  {
   "cell_type": "code",
   "execution_count": null,
   "metadata": {},
   "outputs": [],
   "source": [
    "%matplotlib inline"
   ]
  },
  {
   "cell_type": "markdown",
   "metadata": {},
   "source": [
    "# Preview all data"
   ]
  },
  {
   "cell_type": "code",
   "execution_count": null,
   "metadata": {},
   "outputs": [],
   "source": [
    "for i in flist:\n",
    "    print(i)\n",
    "    plot(flist[i])\n",
    "    plt.show()"
   ]
  },
  {
   "cell_type": "code",
   "execution_count": null,
   "metadata": {},
   "outputs": [],
   "source": []
  }
 ],
 "metadata": {
  "kernelspec": {
   "display_name": "Python 3",
   "language": "python",
   "name": "python3"
  },
  "language_info": {
   "codemirror_mode": {
    "name": "ipython",
    "version": 3
   },
   "file_extension": ".py",
   "mimetype": "text/x-python",
   "name": "python",
   "nbconvert_exporter": "python",
   "pygments_lexer": "ipython3",
   "version": "3.7.6"
  },
  "widgets": {
   "application/vnd.jupyter.widget-state+json": {
    "state": {
     "041d54ffe99a4461af41ad428708fb91": {
      "model_module": "@jupyter-widgets/base",
      "model_module_version": "1.2.0",
      "model_name": "LayoutModel",
      "state": {}
     },
     "075794f139c2404ea12b1fdb2329a1e9": {
      "model_module": "@jupyter-widgets/controls",
      "model_module_version": "1.5.0",
      "model_name": "IntSliderModel",
      "state": {
       "description": "gamma",
       "layout": "IPY_MODEL_27a22e08c0454690b32d2990b0a137d9",
       "min": -100,
       "step": 10,
       "style": "IPY_MODEL_785fe23631784f9aa61523d05bcd1055"
      }
     },
     "113b6d89be9c4e89a8ad1a52eb9350a6": {
      "model_module": "@jupyter-widgets/controls",
      "model_module_version": "1.5.0",
      "model_name": "SliderStyleModel",
      "state": {
       "description_width": ""
      }
     },
     "17651332ea374ed2865b7bffc3dd1727": {
      "model_module": "@jupyter-widgets/base",
      "model_module_version": "1.2.0",
      "model_name": "LayoutModel",
      "state": {}
     },
     "243741e9fc5d4620a8fa8853208b3f83": {
      "model_module": "jupyter-matplotlib",
      "model_module_version": "^0.7.2",
      "model_name": "MPLCanvasModel",
      "state": {
       "_figure_label": "Figure 1",
       "_height": 250,
       "_image_mode": "diff",
       "_width": 650,
       "header_visible": false,
       "layout": "IPY_MODEL_b3cff71fa1204240b26ebce28055548a",
       "resizable": false,
       "toolbar": "IPY_MODEL_f6c6eb5de94043b5a180301b575ef400",
       "toolbar_position": "left",
       "toolbar_visible": false
      }
     },
     "27a22e08c0454690b32d2990b0a137d9": {
      "model_module": "@jupyter-widgets/base",
      "model_module_version": "1.2.0",
      "model_name": "LayoutModel",
      "state": {}
     },
     "4a4d805ab42c46238037e41deb751b10": {
      "model_module": "@jupyter-widgets/controls",
      "model_module_version": "1.5.0",
      "model_name": "DescriptionStyleModel",
      "state": {
       "description_width": ""
      }
     },
     "4c4635a2fe46444eac4e7158693b2b1a": {
      "model_module": "@jupyter-widgets/base",
      "model_module_version": "1.2.0",
      "model_name": "LayoutModel",
      "state": {}
     },
     "5143e072dac8436db2e218f812ff0871": {
      "model_module": "@jupyter-widgets/base",
      "model_module_version": "1.2.0",
      "model_name": "LayoutModel",
      "state": {}
     },
     "594e5c1af07a4249bcaf116ee2a82999": {
      "model_module": "@jupyter-widgets/controls",
      "model_module_version": "1.5.0",
      "model_name": "DescriptionStyleModel",
      "state": {
       "description_width": ""
      }
     },
     "5aa2be9fff2843e5a9324ebe487a9787": {
      "model_module": "@jupyter-widgets/controls",
      "model_module_version": "1.5.0",
      "model_name": "ButtonStyleModel",
      "state": {}
     },
     "5c7a55c64ce541e796c82b581689b746": {
      "model_module": "@jupyter-widgets/base",
      "model_module_version": "1.2.0",
      "model_name": "LayoutModel",
      "state": {}
     },
     "5fbd9ab9c4d5476e87a30615f478908c": {
      "model_module": "@jupyter-widgets/controls",
      "model_module_version": "1.5.0",
      "model_name": "FloatRangeSliderModel",
      "state": {
       "_model_name": "FloatRangeSliderModel",
       "_view_name": "FloatRangeSliderView",
       "description": "limit",
       "layout": "IPY_MODEL_f84dcab5c12b41f996efb4e390e52157",
       "max": 0.23514667026040503,
       "min": 0.00021523256339926245,
       "step": 0.01174657188485029,
       "style": "IPY_MODEL_6eadf6ef50c54a18916cd8103c5bd8e9",
       "value": [
        0.00021523256339926245,
        0.23514667026040503
       ]
      }
     },
     "6120569d6fe14a25ab960e479dc2ce2d": {
      "model_module": "@jupyter-widgets/base",
      "model_module_version": "1.2.0",
      "model_name": "LayoutModel",
      "state": {}
     },
     "6a97e5ee2a784dc89d4715ae4288642c": {
      "model_module": "@jupyter-widgets/controls",
      "model_module_version": "1.5.0",
      "model_name": "ComboboxModel",
      "state": {
       "description": "colormap:",
       "ensure_option": false,
       "layout": "IPY_MODEL_6120569d6fe14a25ab960e479dc2ce2d",
       "options": [
        "Accent",
        "Accent_r",
        "Blues",
        "Blues_r",
        "BrBG",
        "BrBG_r",
        "BuGn",
        "BuGn_r",
        "BuPu",
        "BuPu_r",
        "CMRmap",
        "CMRmap_r",
        "Dark2",
        "Dark2_r",
        "GnBu",
        "GnBu_r",
        "Greens",
        "Greens_r",
        "Greys",
        "Greys_r",
        "OrRd",
        "OrRd_r",
        "Oranges",
        "Oranges_r",
        "PRGn",
        "PRGn_r",
        "Paired",
        "Paired_r",
        "Pastel1",
        "Pastel1_r",
        "Pastel2",
        "Pastel2_r",
        "PiYG",
        "PiYG_r",
        "PuBu",
        "PuBuGn",
        "PuBuGn_r",
        "PuBu_r",
        "PuOr",
        "PuOr_r",
        "PuRd",
        "PuRd_r",
        "Purples",
        "Purples_r",
        "RdBu",
        "RdBu_r",
        "RdGy",
        "RdGy_r",
        "RdPu",
        "RdPu_r",
        "RdYlBu",
        "RdYlBu_r",
        "RdYlGn",
        "RdYlGn_r",
        "Reds",
        "Reds_r",
        "Set1",
        "Set1_r",
        "Set2",
        "Set2_r",
        "Set3",
        "Set3_r",
        "Spectral",
        "Spectral_r",
        "Wistia",
        "Wistia_r",
        "YlGn",
        "YlGnBu",
        "YlGnBu_r",
        "YlGn_r",
        "YlOrBr",
        "YlOrBr_r",
        "YlOrRd",
        "YlOrRd_r",
        "afmhot",
        "afmhot_r",
        "autumn",
        "autumn_r",
        "binary",
        "binary_r",
        "bone",
        "bone_r",
        "brg",
        "brg_r",
        "bwr",
        "bwr_r",
        "cividis",
        "cividis_r",
        "cool",
        "cool_r",
        "coolwarm",
        "coolwarm_r",
        "copper",
        "copper_r",
        "cubehelix",
        "cubehelix_r",
        "flag",
        "flag_r",
        "gist_earth",
        "gist_earth_r",
        "gist_gray",
        "gist_gray_r",
        "gist_heat",
        "gist_heat_r",
        "gist_ncar",
        "gist_ncar_r",
        "gist_rainbow",
        "gist_rainbow_r",
        "gist_stern",
        "gist_stern_r",
        "gist_yarg",
        "gist_yarg_r",
        "gnuplot",
        "gnuplot2",
        "gnuplot2_r",
        "gnuplot_r",
        "gray",
        "gray_r",
        "hot",
        "hot_r",
        "hsv",
        "hsv_r",
        "inferno",
        "inferno_r",
        "jet",
        "jet_r",
        "magma",
        "magma_r",
        "nipy_spectral",
        "nipy_spectral_r",
        "ocean",
        "ocean_r",
        "pink",
        "pink_r",
        "plasma",
        "plasma_r",
        "prism",
        "prism_r",
        "rainbow",
        "rainbow_r",
        "seismic",
        "seismic_r",
        "spring",
        "spring_r",
        "summer",
        "summer_r",
        "tab10",
        "tab10_r",
        "tab20",
        "tab20_r",
        "tab20b",
        "tab20b_r",
        "tab20c",
        "tab20c_r",
        "terrain",
        "terrain_r",
        "twilight",
        "twilight_r",
        "twilight_shifted",
        "twilight_shifted_r",
        "viridis",
        "viridis_r",
        "winter",
        "winter_r"
       ],
       "placeholder": "Choose or type",
       "style": "IPY_MODEL_acc69796e84347c5b083f73a230e6c64"
      }
     },
     "6eadf6ef50c54a18916cd8103c5bd8e9": {
      "model_module": "@jupyter-widgets/controls",
      "model_module_version": "1.5.0",
      "model_name": "SliderStyleModel",
      "state": {
       "description_width": ""
      }
     },
     "785fe23631784f9aa61523d05bcd1055": {
      "model_module": "@jupyter-widgets/controls",
      "model_module_version": "1.5.0",
      "model_name": "SliderStyleModel",
      "state": {
       "description_width": ""
      }
     },
     "8df532fdc07748c19ff6e3d8b9323a66": {
      "model_module": "@jupyter-widgets/controls",
      "model_module_version": "1.5.0",
      "model_name": "VBoxModel",
      "state": {
       "children": [
        "IPY_MODEL_d4ab47c93e7b4f2c9deff4041c8c1bb3",
        "IPY_MODEL_dccc286c4af249408f1b83c844255fad"
       ],
       "layout": "IPY_MODEL_5143e072dac8436db2e218f812ff0871"
      }
     },
     "99aab30e50e44fc1b86ef6647a7b8724": {
      "model_module": "@jupyter-widgets/base",
      "model_module_version": "1.2.0",
      "model_name": "LayoutModel",
      "state": {}
     },
     "9e7dfe504efe473bae7363b48bb37ae1": {
      "model_module": "@jupyter-widgets/base",
      "model_module_version": "1.2.0",
      "model_name": "LayoutModel",
      "state": {}
     },
     "a5ac397628524a88810849d0abbd8854": {
      "model_module": "@jupyter-widgets/controls",
      "model_module_version": "1.5.0",
      "model_name": "SliderStyleModel",
      "state": {
       "description_width": ""
      }
     },
     "acc69796e84347c5b083f73a230e6c64": {
      "model_module": "@jupyter-widgets/controls",
      "model_module_version": "1.5.0",
      "model_name": "DescriptionStyleModel",
      "state": {
       "description_width": ""
      }
     },
     "b3cff71fa1204240b26ebce28055548a": {
      "model_module": "@jupyter-widgets/base",
      "model_module_version": "1.2.0",
      "model_name": "LayoutModel",
      "state": {}
     },
     "b5b79c2c031f48af9c98b4c0f64f09c4": {
      "model_module": "@jupyter-widgets/controls",
      "model_module_version": "1.5.0",
      "model_name": "VBoxModel",
      "state": {
       "children": [
        "IPY_MODEL_e138c26e67af46e7a2d9a082a77ed558",
        "IPY_MODEL_f0060a5729864d34b39f21ced1dad2e6"
       ],
       "layout": "IPY_MODEL_99aab30e50e44fc1b86ef6647a7b8724"
      }
     },
     "baef9b9cec3e46a68702cd93d38d8ee3": {
      "model_module": "@jupyter-widgets/base",
      "model_module_version": "1.2.0",
      "model_name": "LayoutModel",
      "state": {}
     },
     "c5eb7a4b96854645b2136a587c5f3dd3": {
      "model_module": "@jupyter-widgets/base",
      "model_module_version": "1.2.0",
      "model_name": "LayoutModel",
      "state": {}
     },
     "d4ab47c93e7b4f2c9deff4041c8c1bb3": {
      "model_module": "@jupyter-widgets/controls",
      "model_module_version": "1.5.0",
      "model_name": "FloatSliderModel",
      "state": {
       "description": "x",
       "layout": "IPY_MODEL_4c4635a2fe46444eac4e7158693b2b1a",
       "max": 4,
       "step": 0.03333333333333333,
       "style": "IPY_MODEL_113b6d89be9c4e89a8ad1a52eb9350a6",
       "value": 2
      }
     },
     "dccc286c4af249408f1b83c844255fad": {
      "model_module": "@jupyter-widgets/controls",
      "model_module_version": "1.5.0",
      "model_name": "FloatSliderModel",
      "state": {
       "description": "y",
       "layout": "IPY_MODEL_ef64dea0c11d43d085bed0bb09fcb027",
       "max": 1.43,
       "min": -1.43,
       "step": 0.020000000000000018,
       "style": "IPY_MODEL_a5ac397628524a88810849d0abbd8854"
      }
     },
     "dd536460ce514648abbf3f08114816fc": {
      "model_module": "@jupyter-widgets/controls",
      "model_module_version": "1.5.0",
      "model_name": "DropdownModel",
      "state": {
       "_options_labels": [
        "fig1d",
        "fig2b",
        "fig2c_1",
        "fig2c_2",
        "fig3b",
        "fig3c",
        "fig3d",
        "fig3e",
        "fig3f",
        "figs1_0t",
        "figs1_1",
        "figs1_2t",
        "figs1_3t",
        "figs1_4t",
        "figs2a",
        "figs2b",
        "figs2c",
        "figs3a_0t",
        "figs3a_0d2t",
        "figs3a_0d4t",
        "figs3a_0d6t",
        "figs3a_0d8t",
        "figs3a_1t",
        "figs3b_0t",
        "figs3b_0d2t",
        "figs3b_0d4t",
        "figs3b_0d6t",
        "figs3b_0d8t",
        "figs3b_1t",
        "figs4b",
        "figs4c",
        "figs4d",
        "figs4f",
        "figs5b",
        "figs5c",
        "figs6a_left",
        "figs6a_right",
        "figs6c_left",
        "figs6c_right",
        "figs7b"
       ],
       "index": 0,
       "layout": "IPY_MODEL_9e7dfe504efe473bae7363b48bb37ae1",
       "style": "IPY_MODEL_4a4d805ab42c46238037e41deb751b10"
      }
     },
     "e138c26e67af46e7a2d9a082a77ed558": {
      "model_module": "@jupyter-widgets/controls",
      "model_module_version": "1.5.0",
      "model_name": "ButtonModel",
      "state": {
       "description": "To mtx",
       "layout": "IPY_MODEL_c5eb7a4b96854645b2136a587c5f3dd3",
       "style": "IPY_MODEL_5aa2be9fff2843e5a9324ebe487a9787"
      }
     },
     "ef64dea0c11d43d085bed0bb09fcb027": {
      "model_module": "@jupyter-widgets/base",
      "model_module_version": "1.2.0",
      "model_name": "LayoutModel",
      "state": {}
     },
     "f0060a5729864d34b39f21ced1dad2e6": {
      "model_module": "@jupyter-widgets/controls",
      "model_module_version": "1.5.0",
      "model_name": "HTMLModel",
      "state": {
       "layout": "IPY_MODEL_041d54ffe99a4461af41ad428708fb91",
       "style": "IPY_MODEL_594e5c1af07a4249bcaf116ee2a82999"
      }
     },
     "f569579784654c4aaf4fce61155e481e": {
      "model_module": "@jupyter-widgets/controls",
      "model_module_version": "1.5.0",
      "model_name": "TabModel",
      "state": {
       "_titles": {
        "0": "linecuts",
        "1": "color",
        "2": "export"
       },
       "children": [
        "IPY_MODEL_8df532fdc07748c19ff6e3d8b9323a66",
        "IPY_MODEL_f79ac709edcf491da18085b9ffc9af85",
        "IPY_MODEL_b5b79c2c031f48af9c98b4c0f64f09c4"
       ],
       "layout": "IPY_MODEL_17651332ea374ed2865b7bffc3dd1727"
      }
     },
     "f6c6eb5de94043b5a180301b575ef400": {
      "model_module": "jupyter-matplotlib",
      "model_module_version": "^0.7.2",
      "model_name": "ToolbarModel",
      "state": {
       "layout": "IPY_MODEL_baef9b9cec3e46a68702cd93d38d8ee3",
       "toolitems": [
        [
         "Home",
         "Reset original view",
         "home",
         "home"
        ],
        [
         "Back",
         "Back to previous view",
         "arrow-left",
         "back"
        ],
        [
         "Forward",
         "Forward to next view",
         "arrow-right",
         "forward"
        ],
        [
         "Pan",
         "Pan axes with left mouse, zoom with right",
         "arrows",
         "pan"
        ],
        [
         "Zoom",
         "Zoom to rectangle",
         "square-o",
         "zoom"
        ],
        [
         "Download",
         "Download plot",
         "floppy-o",
         "save_figure"
        ]
       ]
      }
     },
     "f79ac709edcf491da18085b9ffc9af85": {
      "model_module": "@jupyter-widgets/controls",
      "model_module_version": "1.5.0",
      "model_name": "VBoxModel",
      "state": {
       "children": [
        "IPY_MODEL_075794f139c2404ea12b1fdb2329a1e9",
        "IPY_MODEL_5fbd9ab9c4d5476e87a30615f478908c",
        "IPY_MODEL_6a97e5ee2a784dc89d4715ae4288642c"
       ],
       "layout": "IPY_MODEL_5c7a55c64ce541e796c82b581689b746"
      }
     },
     "f84dcab5c12b41f996efb4e390e52157": {
      "model_module": "@jupyter-widgets/base",
      "model_module_version": "1.2.0",
      "model_name": "LayoutModel",
      "state": {}
     }
    },
    "version_major": 2,
    "version_minor": 0
   }
  }
 },
 "nbformat": 4,
 "nbformat_minor": 4
}
