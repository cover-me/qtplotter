{
 "cells": [
  {
   "cell_type": "markdown",
   "metadata": {},
   "source": [
    "# Initialize"
   ]
  },
  {
   "cell_type": "code",
   "execution_count": 1,
   "metadata": {},
   "outputs": [],
   "source": [
    "# For more information, please visit https://github.com/cover-me/qtplotter\n",
    "# Make sure qtplotter.py is in the same folder as this notebook, or copy and run here.\n",
    "# use \"%matplotlib inline\" if \"%matplotlib widget\" doesn't work.\n",
    "from qtplotter import *\n",
    "%matplotlib widget"
   ]
  },
  {
   "cell_type": "markdown",
   "metadata": {},
   "source": [
    "# Get a url list of data from arxiv"
   ]
  },
  {
   "cell_type": "code",
   "execution_count": 2,
   "metadata": {},
   "outputs": [
    {
     "name": "stdout",
     "output_type": "stream",
     "text": [
      "Data source: https://arxiv.org/src/1912.06071v1/anc/\n",
      "Please select a data file:\n"
     ]
    },
    {
     "data": {
      "application/vnd.jupyter.widget-view+json": {
       "model_id": "99cb8fde41564277920fc1f2659b565a",
       "version_major": 2,
       "version_minor": 0
      },
      "text/plain": [
       "Dropdown(options=('fig1d', 'fig2b', 'fig2c_1', 'fig2c_2', 'fig3b', 'fig3c', 'fig3d', 'fig3e', 'fig3f', 'figs1_…"
      ]
     },
     "metadata": {},
     "output_type": "display_data"
    }
   ],
   "source": [
    "import re\n",
    "url = 'https://arxiv.org/src/1912.06071v1/anc/'\n",
    "_ = urlopen(url).read().decode()\n",
    "_ = re.findall('>([^\"]+mtx)<',_)\n",
    "url_list = [url+i for i in _]\n",
    "name_list = [i.replace('.mtx','').lower() for i in _]\n",
    "flist = dict(zip(name_list,url_list))\n",
    "\n",
    "dd_flist = widgets.Dropdown(options=name_list,value=name_list[0],description='')\n",
    "print('Data source: ' + url)\n",
    "print('Please select a data file:')\n",
    "dd_flist"
   ]
  },
  {
   "cell_type": "markdown",
   "metadata": {},
   "source": [
    "# Interact with the data"
   ]
  },
  {
   "cell_type": "code",
   "execution_count": 3,
   "metadata": {},
   "outputs": [
    {
     "name": "stdout",
     "output_type": "stream",
     "text": [
      "You are in widget mode. If you don't like it, use \"%matplotlib widget\" and \"%matplotlib inline\" to switch between backends\n"
     ]
    },
    {
     "data": {
      "application/vnd.jupyter.widget-view+json": {
       "model_id": "5257eafa3b864a85ba2b1dbb6018d44d",
       "version_major": 2,
       "version_minor": 0
      },
      "text/plain": [
       "Tab(children=(VBox(children=(FloatSlider(value=2.0, description='x', max=4.0, step=0.03333333333333333), Float…"
      ]
     },
     "metadata": {},
     "output_type": "display_data"
    },
    {
     "data": {
      "application/vnd.jupyter.widget-view+json": {
       "model_id": "2cedf4cb7ea648c8b3fa92c9473b54d0",
       "version_major": 2,
       "version_minor": 0
      },
      "text/plain": [
       "Canvas(toolbar=Toolbar(toolitems=[('Home', 'Reset original view', 'home', 'home'), ('Back', 'Back to previous …"
      ]
     },
     "metadata": {},
     "output_type": "display_data"
    }
   ],
   "source": [
    "url_or_path = flist[dd_flist.value]\n",
    "play(url_or_path)"
   ]
  },
  {
   "cell_type": "markdown",
   "metadata": {},
   "source": [
    "## Switch back to inline mode if necessary"
   ]
  },
  {
   "cell_type": "code",
   "execution_count": null,
   "metadata": {},
   "outputs": [],
   "source": [
    "%matplotlib inline"
   ]
  },
  {
   "cell_type": "markdown",
   "metadata": {},
   "source": [
    "# Preview all data (static figures)"
   ]
  },
  {
   "cell_type": "code",
   "execution_count": null,
   "metadata": {},
   "outputs": [],
   "source": [
    "# More examples can be find in example.ipynb\n",
    "for i in flist:\n",
    "    print(i)\n",
    "    plot(flist[i])\n",
    "    plt.show()"
   ]
  }
 ],
 "metadata": {
  "kernelspec": {
   "display_name": "Python 3",
   "language": "python",
   "name": "python3"
  },
  "language_info": {
   "codemirror_mode": {
    "name": "ipython",
    "version": 3
   },
   "file_extension": ".py",
   "mimetype": "text/x-python",
   "name": "python",
   "nbconvert_exporter": "python",
   "pygments_lexer": "ipython3",
   "version": "3.7.6"
  },
  "widgets": {
   "application/vnd.jupyter.widget-state+json": {
    "state": {
     "03912bae20004bbd890efe22c471b722": {
      "model_module": "@jupyter-widgets/controls",
      "model_module_version": "1.5.0",
      "model_name": "VBoxModel",
      "state": {
       "children": [
        "IPY_MODEL_b68715cebeb3448cb056df454ff7c7b0",
        "IPY_MODEL_f10dc3d0761f4734a1e3ca109e6dd61c",
        "IPY_MODEL_9ffa5821c6da48bca152057f3f050549"
       ],
       "layout": "IPY_MODEL_59dfead20ab14ad19d365927846ca976"
      }
     },
     "05f8f6304d754efa8a6ac19fca2b9430": {
      "model_module": "@jupyter-widgets/base",
      "model_module_version": "1.2.0",
      "model_name": "LayoutModel",
      "state": {}
     },
     "0c0308a82c45435e9d71c4133dc70383": {
      "model_module": "@jupyter-widgets/controls",
      "model_module_version": "1.5.0",
      "model_name": "SliderStyleModel",
      "state": {
       "description_width": ""
      }
     },
     "108c6b2a8d30440696cdf0e2a8610438": {
      "model_module": "@jupyter-widgets/controls",
      "model_module_version": "1.5.0",
      "model_name": "SliderStyleModel",
      "state": {
       "description_width": ""
      }
     },
     "10f538f80714423a90bbcab35286aee8": {
      "model_module": "@jupyter-widgets/base",
      "model_module_version": "1.2.0",
      "model_name": "LayoutModel",
      "state": {}
     },
     "12aa3fcea3794b0b9c63683a2edceda7": {
      "model_module": "@jupyter-widgets/base",
      "model_module_version": "1.2.0",
      "model_name": "LayoutModel",
      "state": {}
     },
     "1397d3d0fdef46a7ada459f47cd9cfc5": {
      "model_module": "@jupyter-widgets/controls",
      "model_module_version": "1.5.0",
      "model_name": "DescriptionStyleModel",
      "state": {
       "description_width": ""
      }
     },
     "13c23b88d63149e492329899d23dd2e2": {
      "model_module": "jupyter-matplotlib",
      "model_module_version": "^0.7.2",
      "model_name": "ToolbarModel",
      "state": {
       "layout": "IPY_MODEL_39fa9ea814924349a48368f9712b0ad8",
       "toolitems": [
        [
         "Home",
         "Reset original view",
         "home",
         "home"
        ],
        [
         "Back",
         "Back to previous view",
         "arrow-left",
         "back"
        ],
        [
         "Forward",
         "Forward to next view",
         "arrow-right",
         "forward"
        ],
        [
         "Pan",
         "Pan axes with left mouse, zoom with right",
         "arrows",
         "pan"
        ],
        [
         "Zoom",
         "Zoom to rectangle",
         "square-o",
         "zoom"
        ],
        [
         "Download",
         "Download plot",
         "floppy-o",
         "save_figure"
        ]
       ]
      }
     },
     "13d509c736464ac2b781f1dfcbf13f82": {
      "model_module": "@jupyter-widgets/controls",
      "model_module_version": "1.5.0",
      "model_name": "DescriptionStyleModel",
      "state": {
       "description_width": ""
      }
     },
     "15d2234cd8ae4b6cb884e25492d1670f": {
      "model_module": "@jupyter-widgets/controls",
      "model_module_version": "1.5.0",
      "model_name": "DescriptionStyleModel",
      "state": {
       "description_width": ""
      }
     },
     "17705ed6746c414388c1965324e01ac1": {
      "model_module": "@jupyter-widgets/controls",
      "model_module_version": "1.5.0",
      "model_name": "TabModel",
      "state": {
       "_titles": {
        "0": "linecuts",
        "1": "color",
        "2": "export"
       },
       "children": [
        "IPY_MODEL_d9bb2e64edce477e9cdd4e1a2bd23d25",
        "IPY_MODEL_03912bae20004bbd890efe22c471b722",
        "IPY_MODEL_442fd7aee3b5438ebda97518adf0da36"
       ],
       "layout": "IPY_MODEL_6ed13984e576433cae2b9e709114c2fc"
      }
     },
     "17eed6f5702b4c059010633217bc530f": {
      "model_module": "@jupyter-widgets/base",
      "model_module_version": "1.2.0",
      "model_name": "LayoutModel",
      "state": {}
     },
     "1805437f1375471eb095a43f634bfdff": {
      "model_module": "@jupyter-widgets/controls",
      "model_module_version": "1.5.0",
      "model_name": "SliderStyleModel",
      "state": {
       "description_width": ""
      }
     },
     "19412d49540442d28b6100a44b05f386": {
      "model_module": "@jupyter-widgets/controls",
      "model_module_version": "1.5.0",
      "model_name": "TabModel",
      "state": {
       "_titles": {
        "0": "linecuts",
        "1": "color",
        "2": "export"
       },
       "children": [
        "IPY_MODEL_6c338b84982e42b99eb02a5125acf040",
        "IPY_MODEL_c2632863d13e4cdfba67963237f04166",
        "IPY_MODEL_f3ca37b9940649b8a281a42fe4558e32"
       ],
       "layout": "IPY_MODEL_7bcc66d1a5c24484a281ff5120ea1896"
      }
     },
     "1c0ad203484a43fa8ce8449752cab639": {
      "model_module": "@jupyter-widgets/base",
      "model_module_version": "1.2.0",
      "model_name": "LayoutModel",
      "state": {}
     },
     "1c741c5ad1974650b2f02a64dc519352": {
      "model_module": "@jupyter-widgets/base",
      "model_module_version": "1.2.0",
      "model_name": "LayoutModel",
      "state": {}
     },
     "1c8bae55a82f4952a9da7b6dbae1a7fb": {
      "model_module": "@jupyter-widgets/controls",
      "model_module_version": "1.5.0",
      "model_name": "ComboboxModel",
      "state": {
       "description": "colormap:",
       "ensure_option": false,
       "layout": "IPY_MODEL_dfdfbd1c8d2c44aab40d61221788f483",
       "options": [
        "Accent",
        "Accent_r",
        "Blues",
        "Blues_r",
        "BrBG",
        "BrBG_r",
        "BuGn",
        "BuGn_r",
        "BuPu",
        "BuPu_r",
        "CMRmap",
        "CMRmap_r",
        "Dark2",
        "Dark2_r",
        "GnBu",
        "GnBu_r",
        "Greens",
        "Greens_r",
        "Greys",
        "Greys_r",
        "OrRd",
        "OrRd_r",
        "Oranges",
        "Oranges_r",
        "PRGn",
        "PRGn_r",
        "Paired",
        "Paired_r",
        "Pastel1",
        "Pastel1_r",
        "Pastel2",
        "Pastel2_r",
        "PiYG",
        "PiYG_r",
        "PuBu",
        "PuBuGn",
        "PuBuGn_r",
        "PuBu_r",
        "PuOr",
        "PuOr_r",
        "PuRd",
        "PuRd_r",
        "Purples",
        "Purples_r",
        "RdBu",
        "RdBu_r",
        "RdGy",
        "RdGy_r",
        "RdPu",
        "RdPu_r",
        "RdYlBu",
        "RdYlBu_r",
        "RdYlGn",
        "RdYlGn_r",
        "Reds",
        "Reds_r",
        "Set1",
        "Set1_r",
        "Set2",
        "Set2_r",
        "Set3",
        "Set3_r",
        "Spectral",
        "Spectral_r",
        "Wistia",
        "Wistia_r",
        "YlGn",
        "YlGnBu",
        "YlGnBu_r",
        "YlGn_r",
        "YlOrBr",
        "YlOrBr_r",
        "YlOrRd",
        "YlOrRd_r",
        "afmhot",
        "afmhot_r",
        "autumn",
        "autumn_r",
        "binary",
        "binary_r",
        "bone",
        "bone_r",
        "brg",
        "brg_r",
        "bwr",
        "bwr_r",
        "cividis",
        "cividis_r",
        "cool",
        "cool_r",
        "coolwarm",
        "coolwarm_r",
        "copper",
        "copper_r",
        "cubehelix",
        "cubehelix_r",
        "flag",
        "flag_r",
        "gist_earth",
        "gist_earth_r",
        "gist_gray",
        "gist_gray_r",
        "gist_heat",
        "gist_heat_r",
        "gist_ncar",
        "gist_ncar_r",
        "gist_rainbow",
        "gist_rainbow_r",
        "gist_stern",
        "gist_stern_r",
        "gist_yarg",
        "gist_yarg_r",
        "gnuplot",
        "gnuplot2",
        "gnuplot2_r",
        "gnuplot_r",
        "gray",
        "gray_r",
        "hot",
        "hot_r",
        "hsv",
        "hsv_r",
        "inferno",
        "inferno_r",
        "jet",
        "jet_r",
        "magma",
        "magma_r",
        "nipy_spectral",
        "nipy_spectral_r",
        "ocean",
        "ocean_r",
        "pink",
        "pink_r",
        "plasma",
        "plasma_r",
        "prism",
        "prism_r",
        "rainbow",
        "rainbow_r",
        "seismic",
        "seismic_r",
        "spring",
        "spring_r",
        "summer",
        "summer_r",
        "tab10",
        "tab10_r",
        "tab20",
        "tab20_r",
        "tab20b",
        "tab20b_r",
        "tab20c",
        "tab20c_r",
        "terrain",
        "terrain_r",
        "twilight",
        "twilight_r",
        "twilight_shifted",
        "twilight_shifted_r",
        "viridis",
        "viridis_r",
        "winter",
        "winter_r"
       ],
       "placeholder": "Choose or type",
       "style": "IPY_MODEL_13d509c736464ac2b781f1dfcbf13f82"
      }
     },
     "1cda3ed1d9b040018b439f95fa13662c": {
      "model_module": "@jupyter-widgets/controls",
      "model_module_version": "1.5.0",
      "model_name": "IntSliderModel",
      "state": {
       "description": "gamma",
       "layout": "IPY_MODEL_3544a92842b449b4b3cb4864e30a6d49",
       "min": -100,
       "step": 10,
       "style": "IPY_MODEL_26e64b7d41ab421f8dd857ebfa90ec48"
      }
     },
     "26e64b7d41ab421f8dd857ebfa90ec48": {
      "model_module": "@jupyter-widgets/controls",
      "model_module_version": "1.5.0",
      "model_name": "SliderStyleModel",
      "state": {
       "description_width": ""
      }
     },
     "2aeccdce269149298259fc0a1a7442ac": {
      "model_module": "@jupyter-widgets/controls",
      "model_module_version": "1.5.0",
      "model_name": "DescriptionStyleModel",
      "state": {
       "description_width": ""
      }
     },
     "2b25910a4bc04416a1c6fefee3f9c03e": {
      "model_module": "@jupyter-widgets/base",
      "model_module_version": "1.2.0",
      "model_name": "LayoutModel",
      "state": {}
     },
     "2c8a74e443a94a848b8914e549d03e73": {
      "model_module": "@jupyter-widgets/controls",
      "model_module_version": "1.5.0",
      "model_name": "FloatSliderModel",
      "state": {
       "description": "x",
       "layout": "IPY_MODEL_8f83429b32704f45841c1d96a8e0ad15",
       "max": 4,
       "step": 0.03333333333333333,
       "style": "IPY_MODEL_0c0308a82c45435e9d71c4133dc70383",
       "value": 2
      }
     },
     "2cedf4cb7ea648c8b3fa92c9473b54d0": {
      "model_module": "jupyter-matplotlib",
      "model_module_version": "^0.7.2",
      "model_name": "MPLCanvasModel",
      "state": {
       "_cursor": "default",
       "_figure_label": "Figure 1",
       "_height": 250,
       "_message": "x=1.96816      y=-0.0447353   [0.000774331]",
       "_width": 650,
       "header_visible": false,
       "layout": "IPY_MODEL_fcbc71ff2dad4949b516e285c933b92c",
       "resizable": false,
       "toolbar": "IPY_MODEL_370b6f23a6f9466da64d184c43b2cef6",
       "toolbar_position": "left",
       "toolbar_visible": false
      }
     },
     "2dc1e4a267824c1f98ee051a9a3ede29": {
      "model_module": "@jupyter-widgets/base",
      "model_module_version": "1.2.0",
      "model_name": "LayoutModel",
      "state": {}
     },
     "31d007ff1d5c421fa236886287bc1740": {
      "model_module": "@jupyter-widgets/base",
      "model_module_version": "1.2.0",
      "model_name": "LayoutModel",
      "state": {}
     },
     "3250f049c2ae458095a56bba92a9ed4b": {
      "model_module": "@jupyter-widgets/base",
      "model_module_version": "1.2.0",
      "model_name": "LayoutModel",
      "state": {}
     },
     "3544a92842b449b4b3cb4864e30a6d49": {
      "model_module": "@jupyter-widgets/base",
      "model_module_version": "1.2.0",
      "model_name": "LayoutModel",
      "state": {}
     },
     "37082bbf9f4f474ab34f5cece46eb8a6": {
      "model_module": "@jupyter-widgets/controls",
      "model_module_version": "1.5.0",
      "model_name": "VBoxModel",
      "state": {
       "children": [
        "IPY_MODEL_af7b858be0014881b38b86c3bfebeb0a",
        "IPY_MODEL_86c73cf7746d414e89745e98a0f39fe4"
       ],
       "layout": "IPY_MODEL_c9f043f671474e72948bf39872f5adca"
      }
     },
     "370b6f23a6f9466da64d184c43b2cef6": {
      "model_module": "jupyter-matplotlib",
      "model_module_version": "^0.7.2",
      "model_name": "ToolbarModel",
      "state": {
       "layout": "IPY_MODEL_12aa3fcea3794b0b9c63683a2edceda7",
       "toolitems": [
        [
         "Home",
         "Reset original view",
         "home",
         "home"
        ],
        [
         "Back",
         "Back to previous view",
         "arrow-left",
         "back"
        ],
        [
         "Forward",
         "Forward to next view",
         "arrow-right",
         "forward"
        ],
        [
         "Pan",
         "Pan axes with left mouse, zoom with right",
         "arrows",
         "pan"
        ],
        [
         "Zoom",
         "Zoom to rectangle",
         "square-o",
         "zoom"
        ],
        [
         "Download",
         "Download plot",
         "floppy-o",
         "save_figure"
        ]
       ]
      }
     },
     "39fa9ea814924349a48368f9712b0ad8": {
      "model_module": "@jupyter-widgets/base",
      "model_module_version": "1.2.0",
      "model_name": "LayoutModel",
      "state": {}
     },
     "3d0f7469371841aea2d1eb250ac149e1": {
      "model_module": "@jupyter-widgets/controls",
      "model_module_version": "1.5.0",
      "model_name": "DescriptionStyleModel",
      "state": {
       "description_width": ""
      }
     },
     "412e8201e6824a32afcc2369765c93eb": {
      "model_module": "@jupyter-widgets/base",
      "model_module_version": "1.2.0",
      "model_name": "LayoutModel",
      "state": {}
     },
     "442fd7aee3b5438ebda97518adf0da36": {
      "model_module": "@jupyter-widgets/controls",
      "model_module_version": "1.5.0",
      "model_name": "VBoxModel",
      "state": {
       "children": [
        "IPY_MODEL_77eb25d2751e4f568f71fdb51a3697b7",
        "IPY_MODEL_9bcb13d41ba147eba904434d2e2ca26a"
       ],
       "layout": "IPY_MODEL_5806bdb4187644068d323303733fcc43"
      }
     },
     "4554aa8444634eff9ed03a156987a2e1": {
      "model_module": "@jupyter-widgets/base",
      "model_module_version": "1.2.0",
      "model_name": "LayoutModel",
      "state": {}
     },
     "48c1a8b47b7a4f52b3e3e2742a282e08": {
      "model_module": "@jupyter-widgets/base",
      "model_module_version": "1.2.0",
      "model_name": "LayoutModel",
      "state": {}
     },
     "4bd907e8a88d4ae1a08222706b62c1b4": {
      "model_module": "@jupyter-widgets/base",
      "model_module_version": "1.2.0",
      "model_name": "LayoutModel",
      "state": {}
     },
     "4ed32d5ab58148e295d6d62a3732e5e0": {
      "model_module": "@jupyter-widgets/base",
      "model_module_version": "1.2.0",
      "model_name": "LayoutModel",
      "state": {}
     },
     "4efd5746c22746bbbc39b1e3a1a7713a": {
      "model_module": "@jupyter-widgets/base",
      "model_module_version": "1.2.0",
      "model_name": "LayoutModel",
      "state": {}
     },
     "4f77802cf45646d88ccb328e24aee105": {
      "model_module": "@jupyter-widgets/controls",
      "model_module_version": "1.5.0",
      "model_name": "ComboboxModel",
      "state": {
       "description": "colormap:",
       "ensure_option": false,
       "layout": "IPY_MODEL_d1e4436d72db4c2da5851e4debd5a6b4",
       "options": [
        "Accent",
        "Accent_r",
        "Blues",
        "Blues_r",
        "BrBG",
        "BrBG_r",
        "BuGn",
        "BuGn_r",
        "BuPu",
        "BuPu_r",
        "CMRmap",
        "CMRmap_r",
        "Dark2",
        "Dark2_r",
        "GnBu",
        "GnBu_r",
        "Greens",
        "Greens_r",
        "Greys",
        "Greys_r",
        "OrRd",
        "OrRd_r",
        "Oranges",
        "Oranges_r",
        "PRGn",
        "PRGn_r",
        "Paired",
        "Paired_r",
        "Pastel1",
        "Pastel1_r",
        "Pastel2",
        "Pastel2_r",
        "PiYG",
        "PiYG_r",
        "PuBu",
        "PuBuGn",
        "PuBuGn_r",
        "PuBu_r",
        "PuOr",
        "PuOr_r",
        "PuRd",
        "PuRd_r",
        "Purples",
        "Purples_r",
        "RdBu",
        "RdBu_r",
        "RdGy",
        "RdGy_r",
        "RdPu",
        "RdPu_r",
        "RdYlBu",
        "RdYlBu_r",
        "RdYlGn",
        "RdYlGn_r",
        "Reds",
        "Reds_r",
        "Set1",
        "Set1_r",
        "Set2",
        "Set2_r",
        "Set3",
        "Set3_r",
        "Spectral",
        "Spectral_r",
        "Wistia",
        "Wistia_r",
        "YlGn",
        "YlGnBu",
        "YlGnBu_r",
        "YlGn_r",
        "YlOrBr",
        "YlOrBr_r",
        "YlOrRd",
        "YlOrRd_r",
        "afmhot",
        "afmhot_r",
        "autumn",
        "autumn_r",
        "binary",
        "binary_r",
        "bone",
        "bone_r",
        "brg",
        "brg_r",
        "bwr",
        "bwr_r",
        "cividis",
        "cividis_r",
        "cool",
        "cool_r",
        "coolwarm",
        "coolwarm_r",
        "copper",
        "copper_r",
        "cubehelix",
        "cubehelix_r",
        "flag",
        "flag_r",
        "gist_earth",
        "gist_earth_r",
        "gist_gray",
        "gist_gray_r",
        "gist_heat",
        "gist_heat_r",
        "gist_ncar",
        "gist_ncar_r",
        "gist_rainbow",
        "gist_rainbow_r",
        "gist_stern",
        "gist_stern_r",
        "gist_yarg",
        "gist_yarg_r",
        "gnuplot",
        "gnuplot2",
        "gnuplot2_r",
        "gnuplot_r",
        "gray",
        "gray_r",
        "hot",
        "hot_r",
        "hsv",
        "hsv_r",
        "inferno",
        "inferno_r",
        "jet",
        "jet_r",
        "magma",
        "magma_r",
        "nipy_spectral",
        "nipy_spectral_r",
        "ocean",
        "ocean_r",
        "pink",
        "pink_r",
        "plasma",
        "plasma_r",
        "prism",
        "prism_r",
        "rainbow",
        "rainbow_r",
        "seismic",
        "seismic_r",
        "spring",
        "spring_r",
        "summer",
        "summer_r",
        "tab10",
        "tab10_r",
        "tab20",
        "tab20_r",
        "tab20b",
        "tab20b_r",
        "tab20c",
        "tab20c_r",
        "terrain",
        "terrain_r",
        "twilight",
        "twilight_r",
        "twilight_shifted",
        "twilight_shifted_r",
        "viridis",
        "viridis_r",
        "winter",
        "winter_r"
       ],
       "placeholder": "Choose or type",
       "style": "IPY_MODEL_3d0f7469371841aea2d1eb250ac149e1"
      }
     },
     "501e40b434b0472cb12c21c378d42fe2": {
      "model_module": "@jupyter-widgets/controls",
      "model_module_version": "1.5.0",
      "model_name": "VBoxModel",
      "state": {
       "children": [
        "IPY_MODEL_e5eb2d60dc7a4c498c9ee4346d8ecbda",
        "IPY_MODEL_969656dec7a044eab1433203bad4d6f9",
        "IPY_MODEL_1c8bae55a82f4952a9da7b6dbae1a7fb"
       ],
       "layout": "IPY_MODEL_53820f019ef64030bbdeb9c07c72e517"
      }
     },
     "5257eafa3b864a85ba2b1dbb6018d44d": {
      "model_module": "@jupyter-widgets/controls",
      "model_module_version": "1.5.0",
      "model_name": "TabModel",
      "state": {
       "_titles": {
        "0": "linecuts",
        "1": "color",
        "2": "export"
       },
       "children": [
        "IPY_MODEL_d8ccd53840f5482fa890ad4c7f75491c",
        "IPY_MODEL_c4506b683ad24de88c0fcfafa726e04a",
        "IPY_MODEL_81682752fe7e4c2490841bc7e43898fa"
       ],
       "layout": "IPY_MODEL_63447d18966046ea874853cf34a435ff"
      }
     },
     "53820f019ef64030bbdeb9c07c72e517": {
      "model_module": "@jupyter-widgets/base",
      "model_module_version": "1.2.0",
      "model_name": "LayoutModel",
      "state": {}
     },
     "565affe31b5747ccbfbe7f9da748a49c": {
      "model_module": "@jupyter-widgets/base",
      "model_module_version": "1.2.0",
      "model_name": "LayoutModel",
      "state": {}
     },
     "56e9d87492484f55a7a922751983ee99": {
      "model_module": "@jupyter-widgets/controls",
      "model_module_version": "1.5.0",
      "model_name": "FloatSliderModel",
      "state": {
       "description": "x",
       "layout": "IPY_MODEL_d4251bf4de3f48559f9aab637f893a2c",
       "max": 4,
       "step": 0.03333333333333333,
       "style": "IPY_MODEL_1805437f1375471eb095a43f634bfdff",
       "value": 2
      }
     },
     "5806bdb4187644068d323303733fcc43": {
      "model_module": "@jupyter-widgets/base",
      "model_module_version": "1.2.0",
      "model_name": "LayoutModel",
      "state": {}
     },
     "59dfead20ab14ad19d365927846ca976": {
      "model_module": "@jupyter-widgets/base",
      "model_module_version": "1.2.0",
      "model_name": "LayoutModel",
      "state": {}
     },
     "5aa47062eb134246b04a0f37721b813e": {
      "model_module": "@jupyter-widgets/base",
      "model_module_version": "1.2.0",
      "model_name": "LayoutModel",
      "state": {}
     },
     "5efb2118c9874c48af56b42e1e8acd9b": {
      "model_module": "@jupyter-widgets/base",
      "model_module_version": "1.2.0",
      "model_name": "LayoutModel",
      "state": {}
     },
     "63447d18966046ea874853cf34a435ff": {
      "model_module": "@jupyter-widgets/base",
      "model_module_version": "1.2.0",
      "model_name": "LayoutModel",
      "state": {}
     },
     "6585b2a9bbc144f18fdfee8d044c190b": {
      "model_module": "@jupyter-widgets/base",
      "model_module_version": "1.2.0",
      "model_name": "LayoutModel",
      "state": {}
     },
     "6b516658b6fa43cb976b8b3b6b13a630": {
      "model_module": "@jupyter-widgets/controls",
      "model_module_version": "1.5.0",
      "model_name": "FloatRangeSliderModel",
      "state": {
       "_model_name": "FloatRangeSliderModel",
       "_view_name": "FloatRangeSliderView",
       "description": "limit",
       "layout": "IPY_MODEL_f58cb4ec42d94d9e9ebc1ae99e321042",
       "max": 0.23514667026040503,
       "min": 0.00021523256339926245,
       "step": 0.01174657188485029,
       "style": "IPY_MODEL_ae03c8f0bf204972a7e3fa56f317cf19",
       "value": [
        0.00021523256339926245,
        0.23514667026040503
       ]
      }
     },
     "6b873403609c4d0d83b6d65eac823f70": {
      "model_module": "@jupyter-widgets/base",
      "model_module_version": "1.2.0",
      "model_name": "LayoutModel",
      "state": {}
     },
     "6c338b84982e42b99eb02a5125acf040": {
      "model_module": "@jupyter-widgets/controls",
      "model_module_version": "1.5.0",
      "model_name": "VBoxModel",
      "state": {
       "children": [
        "IPY_MODEL_2c8a74e443a94a848b8914e549d03e73",
        "IPY_MODEL_763f82f962ca41408fa7bfeb9b0301ed"
       ],
       "layout": "IPY_MODEL_f6fde4efcf9949c39dc2ac91baa57207"
      }
     },
     "6ed13984e576433cae2b9e709114c2fc": {
      "model_module": "@jupyter-widgets/base",
      "model_module_version": "1.2.0",
      "model_name": "LayoutModel",
      "state": {}
     },
     "6ee263f1b8f14fac90101c6efe699af3": {
      "model_module": "@jupyter-widgets/controls",
      "model_module_version": "1.5.0",
      "model_name": "SliderStyleModel",
      "state": {
       "description_width": ""
      }
     },
     "71daf2e6d46742b8879a31194576cadb": {
      "model_module": "@jupyter-widgets/controls",
      "model_module_version": "1.5.0",
      "model_name": "DescriptionStyleModel",
      "state": {
       "description_width": ""
      }
     },
     "72e6ff949d8c4bffabae132e0290dfac": {
      "model_module": "@jupyter-widgets/base",
      "model_module_version": "1.2.0",
      "model_name": "LayoutModel",
      "state": {}
     },
     "7365ad4e019c4a0dbc5f5853b1ed1e71": {
      "model_module": "@jupyter-widgets/controls",
      "model_module_version": "1.5.0",
      "model_name": "ButtonStyleModel",
      "state": {}
     },
     "73ba992703134f739b52494075b0108d": {
      "model_module": "@jupyter-widgets/base",
      "model_module_version": "1.2.0",
      "model_name": "LayoutModel",
      "state": {}
     },
     "763077dc07ef49378b02d73e3d104fe9": {
      "model_module": "@jupyter-widgets/base",
      "model_module_version": "1.2.0",
      "model_name": "LayoutModel",
      "state": {}
     },
     "763f82f962ca41408fa7bfeb9b0301ed": {
      "model_module": "@jupyter-widgets/controls",
      "model_module_version": "1.5.0",
      "model_name": "FloatSliderModel",
      "state": {
       "description": "y",
       "layout": "IPY_MODEL_4ed32d5ab58148e295d6d62a3732e5e0",
       "max": 1.43,
       "min": -1.43,
       "step": 0.020000000000000018,
       "style": "IPY_MODEL_6ee263f1b8f14fac90101c6efe699af3"
      }
     },
     "768d3ff2e5c541a182081ab11bcb4c7d": {
      "model_module": "@jupyter-widgets/base",
      "model_module_version": "1.2.0",
      "model_name": "LayoutModel",
      "state": {}
     },
     "7697571f4c8744618700def457fb0381": {
      "model_module": "@jupyter-widgets/base",
      "model_module_version": "1.2.0",
      "model_name": "LayoutModel",
      "state": {}
     },
     "77eb25d2751e4f568f71fdb51a3697b7": {
      "model_module": "@jupyter-widgets/controls",
      "model_module_version": "1.5.0",
      "model_name": "ButtonModel",
      "state": {
       "description": "To mtx",
       "layout": "IPY_MODEL_72e6ff949d8c4bffabae132e0290dfac",
       "style": "IPY_MODEL_7365ad4e019c4a0dbc5f5853b1ed1e71"
      }
     },
     "7aa99c4a0bce4791a235a003f5c1d2f7": {
      "model_module": "@jupyter-widgets/controls",
      "model_module_version": "1.5.0",
      "model_name": "ButtonStyleModel",
      "state": {}
     },
     "7aeeed1322f5473da096a1aac0e09023": {
      "model_module": "@jupyter-widgets/controls",
      "model_module_version": "1.5.0",
      "model_name": "ButtonModel",
      "state": {
       "description": "To mtx",
       "layout": "IPY_MODEL_aee59915eecc4b8eaeaee88fcc1e447e",
       "style": "IPY_MODEL_7aa99c4a0bce4791a235a003f5c1d2f7"
      }
     },
     "7afdc22984bb4f9baedbfcd5845f5427": {
      "model_module": "@jupyter-widgets/controls",
      "model_module_version": "1.5.0",
      "model_name": "SliderStyleModel",
      "state": {
       "description_width": ""
      }
     },
     "7bcc66d1a5c24484a281ff5120ea1896": {
      "model_module": "@jupyter-widgets/base",
      "model_module_version": "1.2.0",
      "model_name": "LayoutModel",
      "state": {}
     },
     "812ce7dfe18942879102e75a6846703d": {
      "model_module": "@jupyter-widgets/controls",
      "model_module_version": "1.5.0",
      "model_name": "HTMLModel",
      "state": {
       "layout": "IPY_MODEL_412e8201e6824a32afcc2369765c93eb",
       "style": "IPY_MODEL_71daf2e6d46742b8879a31194576cadb"
      }
     },
     "81682752fe7e4c2490841bc7e43898fa": {
      "model_module": "@jupyter-widgets/controls",
      "model_module_version": "1.5.0",
      "model_name": "VBoxModel",
      "state": {
       "children": [
        "IPY_MODEL_e5536598c08d41869b782236a744796a",
        "IPY_MODEL_812ce7dfe18942879102e75a6846703d"
       ],
       "layout": "IPY_MODEL_8ea7fdc508f94134a6ff9c720d4f3446"
      }
     },
     "8182c381229d4da39b9366e4a9cf3698": {
      "model_module": "@jupyter-widgets/controls",
      "model_module_version": "1.5.0",
      "model_name": "SliderStyleModel",
      "state": {
       "description_width": ""
      }
     },
     "856affd403af45c597f32a4992e34edc": {
      "model_module": "@jupyter-widgets/controls",
      "model_module_version": "1.5.0",
      "model_name": "FloatSliderModel",
      "state": {
       "description": "y",
       "layout": "IPY_MODEL_bd96df5f09274ece81a5b234d6de4744",
       "max": 1.43,
       "min": -1.43,
       "step": 0.020000000000000018,
       "style": "IPY_MODEL_b876d1087a6d4eafbed8742f81d5a6f3"
      }
     },
     "86b4f05a7d9b42c6a9b5e9cf9788b96a": {
      "model_module": "@jupyter-widgets/controls",
      "model_module_version": "1.5.0",
      "model_name": "DescriptionStyleModel",
      "state": {
       "description_width": ""
      }
     },
     "86c73cf7746d414e89745e98a0f39fe4": {
      "model_module": "@jupyter-widgets/controls",
      "model_module_version": "1.5.0",
      "model_name": "HTMLModel",
      "state": {
       "layout": "IPY_MODEL_1c0ad203484a43fa8ce8449752cab639",
       "style": "IPY_MODEL_86b4f05a7d9b42c6a9b5e9cf9788b96a"
      }
     },
     "8959c26baa414480a5d07c3f2fa6a0ea": {
      "model_module": "@jupyter-widgets/controls",
      "model_module_version": "1.5.0",
      "model_name": "HTMLModel",
      "state": {
       "layout": "IPY_MODEL_5aa47062eb134246b04a0f37721b813e",
       "style": "IPY_MODEL_2aeccdce269149298259fc0a1a7442ac"
      }
     },
     "8a53bef3def649ee965792e1de9a9051": {
      "model_module": "@jupyter-widgets/controls",
      "model_module_version": "1.5.0",
      "model_name": "FloatSliderModel",
      "state": {
       "description": "x",
       "layout": "IPY_MODEL_7697571f4c8744618700def457fb0381",
       "max": 4,
       "step": 0.03333333333333333,
       "style": "IPY_MODEL_8182c381229d4da39b9366e4a9cf3698",
       "value": 2
      }
     },
     "8ea7fdc508f94134a6ff9c720d4f3446": {
      "model_module": "@jupyter-widgets/base",
      "model_module_version": "1.2.0",
      "model_name": "LayoutModel",
      "state": {}
     },
     "8f83429b32704f45841c1d96a8e0ad15": {
      "model_module": "@jupyter-widgets/base",
      "model_module_version": "1.2.0",
      "model_name": "LayoutModel",
      "state": {}
     },
     "91147b4c4c164480ad131cdff3592b61": {
      "model_module": "@jupyter-widgets/base",
      "model_module_version": "1.2.0",
      "model_name": "LayoutModel",
      "state": {}
     },
     "962a6b7cf4b94bc691c650e3de2ad757": {
      "model_module": "@jupyter-widgets/controls",
      "model_module_version": "1.5.0",
      "model_name": "ButtonStyleModel",
      "state": {}
     },
     "9636246b62dc475baff9cf775c519ce6": {
      "model_module": "@jupyter-widgets/controls",
      "model_module_version": "1.5.0",
      "model_name": "SliderStyleModel",
      "state": {
       "description_width": ""
      }
     },
     "969656dec7a044eab1433203bad4d6f9": {
      "model_module": "@jupyter-widgets/controls",
      "model_module_version": "1.5.0",
      "model_name": "FloatRangeSliderModel",
      "state": {
       "_model_name": "FloatRangeSliderModel",
       "_view_name": "FloatRangeSliderView",
       "description": "limit",
       "layout": "IPY_MODEL_eb6c8334b21947f4acf1780f825f81e2",
       "max": 0.23514667026040503,
       "min": 0.00021523256339926245,
       "step": 0.01174657188485029,
       "style": "IPY_MODEL_a748ec0884a2465ab2754f9516bf2530",
       "value": [
        0.00021523256339926245,
        0.23514667026040503
       ]
      }
     },
     "99cb8fde41564277920fc1f2659b565a": {
      "model_module": "@jupyter-widgets/controls",
      "model_module_version": "1.5.0",
      "model_name": "DropdownModel",
      "state": {
       "_options_labels": [
        "fig1d",
        "fig2b",
        "fig2c_1",
        "fig2c_2",
        "fig3b",
        "fig3c",
        "fig3d",
        "fig3e",
        "fig3f",
        "figs1_0t",
        "figs1_1",
        "figs1_2t",
        "figs1_3t",
        "figs1_4t",
        "figs2a",
        "figs2b",
        "figs2c",
        "figs3a_0t",
        "figs3a_0d2t",
        "figs3a_0d4t",
        "figs3a_0d6t",
        "figs3a_0d8t",
        "figs3a_1t",
        "figs3b_0t",
        "figs3b_0d2t",
        "figs3b_0d4t",
        "figs3b_0d6t",
        "figs3b_0d8t",
        "figs3b_1t",
        "figs4b",
        "figs4c",
        "figs4d",
        "figs4f",
        "figs5b",
        "figs5c",
        "figs6a_left",
        "figs6a_right",
        "figs6c_left",
        "figs6c_right",
        "figs7b"
       ],
       "index": 0,
       "layout": "IPY_MODEL_768d3ff2e5c541a182081ab11bcb4c7d",
       "style": "IPY_MODEL_15d2234cd8ae4b6cb884e25492d1670f"
      }
     },
     "9aec8122133c4335b27633c1a1b3636e": {
      "model_module": "@jupyter-widgets/controls",
      "model_module_version": "1.5.0",
      "model_name": "SliderStyleModel",
      "state": {
       "description_width": ""
      }
     },
     "9bbbe69574064936b29c3c7e3cfedeb5": {
      "model_module": "@jupyter-widgets/controls",
      "model_module_version": "1.5.0",
      "model_name": "VBoxModel",
      "state": {
       "children": [
        "IPY_MODEL_56e9d87492484f55a7a922751983ee99",
        "IPY_MODEL_f238cd4f693e4bc5893838a433e4f64b"
       ],
       "layout": "IPY_MODEL_73ba992703134f739b52494075b0108d"
      }
     },
     "9bcb13d41ba147eba904434d2e2ca26a": {
      "model_module": "@jupyter-widgets/controls",
      "model_module_version": "1.5.0",
      "model_name": "HTMLModel",
      "state": {
       "layout": "IPY_MODEL_4efd5746c22746bbbc39b1e3a1a7713a",
       "style": "IPY_MODEL_1397d3d0fdef46a7ada459f47cd9cfc5"
      }
     },
     "9ffa5821c6da48bca152057f3f050549": {
      "model_module": "@jupyter-widgets/controls",
      "model_module_version": "1.5.0",
      "model_name": "ComboboxModel",
      "state": {
       "description": "colormap:",
       "ensure_option": false,
       "layout": "IPY_MODEL_dc1d7befd7d94daf8119893bbb679fec",
       "options": [
        "Accent",
        "Accent_r",
        "Blues",
        "Blues_r",
        "BrBG",
        "BrBG_r",
        "BuGn",
        "BuGn_r",
        "BuPu",
        "BuPu_r",
        "CMRmap",
        "CMRmap_r",
        "Dark2",
        "Dark2_r",
        "GnBu",
        "GnBu_r",
        "Greens",
        "Greens_r",
        "Greys",
        "Greys_r",
        "OrRd",
        "OrRd_r",
        "Oranges",
        "Oranges_r",
        "PRGn",
        "PRGn_r",
        "Paired",
        "Paired_r",
        "Pastel1",
        "Pastel1_r",
        "Pastel2",
        "Pastel2_r",
        "PiYG",
        "PiYG_r",
        "PuBu",
        "PuBuGn",
        "PuBuGn_r",
        "PuBu_r",
        "PuOr",
        "PuOr_r",
        "PuRd",
        "PuRd_r",
        "Purples",
        "Purples_r",
        "RdBu",
        "RdBu_r",
        "RdGy",
        "RdGy_r",
        "RdPu",
        "RdPu_r",
        "RdYlBu",
        "RdYlBu_r",
        "RdYlGn",
        "RdYlGn_r",
        "Reds",
        "Reds_r",
        "Set1",
        "Set1_r",
        "Set2",
        "Set2_r",
        "Set3",
        "Set3_r",
        "Spectral",
        "Spectral_r",
        "Wistia",
        "Wistia_r",
        "YlGn",
        "YlGnBu",
        "YlGnBu_r",
        "YlGn_r",
        "YlOrBr",
        "YlOrBr_r",
        "YlOrRd",
        "YlOrRd_r",
        "afmhot",
        "afmhot_r",
        "autumn",
        "autumn_r",
        "binary",
        "binary_r",
        "bone",
        "bone_r",
        "brg",
        "brg_r",
        "bwr",
        "bwr_r",
        "cividis",
        "cividis_r",
        "cool",
        "cool_r",
        "coolwarm",
        "coolwarm_r",
        "copper",
        "copper_r",
        "cubehelix",
        "cubehelix_r",
        "flag",
        "flag_r",
        "gist_earth",
        "gist_earth_r",
        "gist_gray",
        "gist_gray_r",
        "gist_heat",
        "gist_heat_r",
        "gist_ncar",
        "gist_ncar_r",
        "gist_rainbow",
        "gist_rainbow_r",
        "gist_stern",
        "gist_stern_r",
        "gist_yarg",
        "gist_yarg_r",
        "gnuplot",
        "gnuplot2",
        "gnuplot2_r",
        "gnuplot_r",
        "gray",
        "gray_r",
        "hot",
        "hot_r",
        "hsv",
        "hsv_r",
        "inferno",
        "inferno_r",
        "jet",
        "jet_r",
        "magma",
        "magma_r",
        "nipy_spectral",
        "nipy_spectral_r",
        "ocean",
        "ocean_r",
        "pink",
        "pink_r",
        "plasma",
        "plasma_r",
        "prism",
        "prism_r",
        "rainbow",
        "rainbow_r",
        "seismic",
        "seismic_r",
        "spring",
        "spring_r",
        "summer",
        "summer_r",
        "tab10",
        "tab10_r",
        "tab20",
        "tab20_r",
        "tab20b",
        "tab20b_r",
        "tab20c",
        "tab20c_r",
        "terrain",
        "terrain_r",
        "twilight",
        "twilight_r",
        "twilight_shifted",
        "twilight_shifted_r",
        "viridis",
        "viridis_r",
        "winter",
        "winter_r"
       ],
       "placeholder": "Choose or type",
       "style": "IPY_MODEL_b93a06f0a8d443a2a6d16710a23d2124"
      }
     },
     "a02d88a3657942a8919ac3cc2c42714d": {
      "model_module": "@jupyter-widgets/base",
      "model_module_version": "1.2.0",
      "model_name": "LayoutModel",
      "state": {}
     },
     "a2eb36ffaa574386b3d40e15c919cb8c": {
      "model_module": "@jupyter-widgets/controls",
      "model_module_version": "1.5.0",
      "model_name": "FloatSliderModel",
      "state": {
       "description": "x",
       "layout": "IPY_MODEL_1c741c5ad1974650b2f02a64dc519352",
       "max": 4,
       "step": 0.03333333333333333,
       "style": "IPY_MODEL_7afdc22984bb4f9baedbfcd5845f5427",
       "value": 2
      }
     },
     "a2fd64e24f8740cea410acab5cca8723": {
      "model_module": "@jupyter-widgets/controls",
      "model_module_version": "1.5.0",
      "model_name": "DescriptionStyleModel",
      "state": {
       "description_width": ""
      }
     },
     "a72d671ebe5f4bfea3a29b5d1b5034d6": {
      "model_module": "@jupyter-widgets/controls",
      "model_module_version": "1.5.0",
      "model_name": "SliderStyleModel",
      "state": {
       "description_width": ""
      }
     },
     "a748ec0884a2465ab2754f9516bf2530": {
      "model_module": "@jupyter-widgets/controls",
      "model_module_version": "1.5.0",
      "model_name": "SliderStyleModel",
      "state": {
       "description_width": ""
      }
     },
     "ae03c8f0bf204972a7e3fa56f317cf19": {
      "model_module": "@jupyter-widgets/controls",
      "model_module_version": "1.5.0",
      "model_name": "SliderStyleModel",
      "state": {
       "description_width": ""
      }
     },
     "aee59915eecc4b8eaeaee88fcc1e447e": {
      "model_module": "@jupyter-widgets/base",
      "model_module_version": "1.2.0",
      "model_name": "LayoutModel",
      "state": {}
     },
     "af7b858be0014881b38b86c3bfebeb0a": {
      "model_module": "@jupyter-widgets/controls",
      "model_module_version": "1.5.0",
      "model_name": "ButtonModel",
      "state": {
       "description": "To mtx",
       "layout": "IPY_MODEL_5efb2118c9874c48af56b42e1e8acd9b",
       "style": "IPY_MODEL_962a6b7cf4b94bc691c650e3de2ad757"
      }
     },
     "b225bfaae3544ed386c56ceac966fabc": {
      "model_module": "@jupyter-widgets/controls",
      "model_module_version": "1.5.0",
      "model_name": "DropdownModel",
      "state": {
       "_options_labels": [
        "fig1d",
        "fig2b",
        "fig2c_1",
        "fig2c_2",
        "fig3b",
        "fig3c",
        "fig3d",
        "fig3e",
        "fig3f",
        "figs1_0t",
        "figs1_1",
        "figs1_2t",
        "figs1_3t",
        "figs1_4t",
        "figs2a",
        "figs2b",
        "figs2c",
        "figs3a_0t",
        "figs3a_0d2t",
        "figs3a_0d4t",
        "figs3a_0d6t",
        "figs3a_0d8t",
        "figs3a_1t",
        "figs3b_0t",
        "figs3b_0d2t",
        "figs3b_0d4t",
        "figs3b_0d6t",
        "figs3b_0d8t",
        "figs3b_1t",
        "figs4b",
        "figs4c",
        "figs4d",
        "figs4f",
        "figs5b",
        "figs5c",
        "figs6a_left",
        "figs6a_right",
        "figs6c_left",
        "figs6c_right",
        "figs7b"
       ],
       "index": 0,
       "layout": "IPY_MODEL_10f538f80714423a90bbcab35286aee8",
       "style": "IPY_MODEL_c0d566a4418847e29e010b7878634bff"
      }
     },
     "b450304319ae4e44b1b72f38d8c42a7a": {
      "model_module": "@jupyter-widgets/controls",
      "model_module_version": "1.5.0",
      "model_name": "DropdownModel",
      "state": {
       "_options_labels": [
        "fig1d",
        "fig2b",
        "fig2c_1",
        "fig2c_2",
        "fig3b",
        "fig3c",
        "fig3d",
        "fig3e",
        "fig3f",
        "figs1_0t",
        "figs1_1",
        "figs1_2t",
        "figs1_3t",
        "figs1_4t",
        "figs2a",
        "figs2b",
        "figs2c",
        "figs3a_0t",
        "figs3a_0d2t",
        "figs3a_0d4t",
        "figs3a_0d6t",
        "figs3a_0d8t",
        "figs3a_1t",
        "figs3b_0t",
        "figs3b_0d2t",
        "figs3b_0d4t",
        "figs3b_0d6t",
        "figs3b_0d8t",
        "figs3b_1t",
        "figs4b",
        "figs4c",
        "figs4d",
        "figs4f",
        "figs5b",
        "figs5c",
        "figs6a_left",
        "figs6a_right",
        "figs6c_left",
        "figs6c_right",
        "figs7b"
       ],
       "index": 0,
       "layout": "IPY_MODEL_05f8f6304d754efa8a6ac19fca2b9430",
       "style": "IPY_MODEL_a2fd64e24f8740cea410acab5cca8723"
      }
     },
     "b68715cebeb3448cb056df454ff7c7b0": {
      "model_module": "@jupyter-widgets/controls",
      "model_module_version": "1.5.0",
      "model_name": "IntSliderModel",
      "state": {
       "description": "gamma",
       "layout": "IPY_MODEL_763077dc07ef49378b02d73e3d104fe9",
       "min": -100,
       "step": 10,
       "style": "IPY_MODEL_9636246b62dc475baff9cf775c519ce6"
      }
     },
     "b876d1087a6d4eafbed8742f81d5a6f3": {
      "model_module": "@jupyter-widgets/controls",
      "model_module_version": "1.5.0",
      "model_name": "SliderStyleModel",
      "state": {
       "description_width": ""
      }
     },
     "b93a06f0a8d443a2a6d16710a23d2124": {
      "model_module": "@jupyter-widgets/controls",
      "model_module_version": "1.5.0",
      "model_name": "DescriptionStyleModel",
      "state": {
       "description_width": ""
      }
     },
     "bd96df5f09274ece81a5b234d6de4744": {
      "model_module": "@jupyter-widgets/base",
      "model_module_version": "1.2.0",
      "model_name": "LayoutModel",
      "state": {}
     },
     "c0d566a4418847e29e010b7878634bff": {
      "model_module": "@jupyter-widgets/controls",
      "model_module_version": "1.5.0",
      "model_name": "DescriptionStyleModel",
      "state": {
       "description_width": ""
      }
     },
     "c2632863d13e4cdfba67963237f04166": {
      "model_module": "@jupyter-widgets/controls",
      "model_module_version": "1.5.0",
      "model_name": "VBoxModel",
      "state": {
       "children": [
        "IPY_MODEL_1cda3ed1d9b040018b439f95fa13662c",
        "IPY_MODEL_6b516658b6fa43cb976b8b3b6b13a630",
        "IPY_MODEL_4f77802cf45646d88ccb328e24aee105"
       ],
       "layout": "IPY_MODEL_565affe31b5747ccbfbe7f9da748a49c"
      }
     },
     "c38a617d051546798a22d1fa838871c2": {
      "model_module": "@jupyter-widgets/controls",
      "model_module_version": "1.5.0",
      "model_name": "TabModel",
      "state": {
       "_titles": {
        "0": "linecuts",
        "1": "color",
        "2": "export"
       },
       "children": [
        "IPY_MODEL_9bbbe69574064936b29c3c7e3cfedeb5",
        "IPY_MODEL_501e40b434b0472cb12c21c378d42fe2",
        "IPY_MODEL_37082bbf9f4f474ab34f5cece46eb8a6"
       ],
       "layout": "IPY_MODEL_6585b2a9bbc144f18fdfee8d044c190b"
      }
     },
     "c4506b683ad24de88c0fcfafa726e04a": {
      "model_module": "@jupyter-widgets/controls",
      "model_module_version": "1.5.0",
      "model_name": "VBoxModel",
      "state": {
       "children": [
        "IPY_MODEL_dc2455611ad6464ba3ffde61ea83a7e0",
        "IPY_MODEL_f4eb3a19bcf84083b33766ed7a18a36d",
        "IPY_MODEL_f24b0b20ac1d480099074a645fc814f7"
       ],
       "layout": "IPY_MODEL_c938c40086284cfa8bb10f00a7243417"
      }
     },
     "c457614315a74815ad941a841a287125": {
      "model_module": "@jupyter-widgets/base",
      "model_module_version": "1.2.0",
      "model_name": "LayoutModel",
      "state": {}
     },
     "c938c40086284cfa8bb10f00a7243417": {
      "model_module": "@jupyter-widgets/base",
      "model_module_version": "1.2.0",
      "model_name": "LayoutModel",
      "state": {}
     },
     "c9f043f671474e72948bf39872f5adca": {
      "model_module": "@jupyter-widgets/base",
      "model_module_version": "1.2.0",
      "model_name": "LayoutModel",
      "state": {}
     },
     "ce07cb5c3205415b977744c311fad84e": {
      "model_module": "@jupyter-widgets/controls",
      "model_module_version": "1.5.0",
      "model_name": "DescriptionStyleModel",
      "state": {
       "description_width": ""
      }
     },
     "cea1eedf7f8a4f639166d8b684ef1d19": {
      "model_module": "@jupyter-widgets/base",
      "model_module_version": "1.2.0",
      "model_name": "LayoutModel",
      "state": {}
     },
     "d11c4ee3aee545bb94407bb5e97eb36f": {
      "model_module": "@jupyter-widgets/controls",
      "model_module_version": "1.5.0",
      "model_name": "FloatSliderModel",
      "state": {
       "description": "y",
       "layout": "IPY_MODEL_cea1eedf7f8a4f639166d8b684ef1d19",
       "max": 1.43,
       "min": -1.43,
       "step": 0.020000000000000018,
       "style": "IPY_MODEL_108c6b2a8d30440696cdf0e2a8610438"
      }
     },
     "d1e4436d72db4c2da5851e4debd5a6b4": {
      "model_module": "@jupyter-widgets/base",
      "model_module_version": "1.2.0",
      "model_name": "LayoutModel",
      "state": {}
     },
     "d2f9fbbd3e614f6ba71112492b13b660": {
      "model_module": "@jupyter-widgets/controls",
      "model_module_version": "1.5.0",
      "model_name": "DropdownModel",
      "state": {
       "_options_labels": [
        "fig1d",
        "fig2b",
        "fig2c_1",
        "fig2c_2",
        "fig3b",
        "fig3c",
        "fig3d",
        "fig3e",
        "fig3f",
        "figs1_0t",
        "figs1_1",
        "figs1_2t",
        "figs1_3t",
        "figs1_4t",
        "figs2a",
        "figs2b",
        "figs2c",
        "figs3a_0t",
        "figs3a_0d2t",
        "figs3a_0d4t",
        "figs3a_0d6t",
        "figs3a_0d8t",
        "figs3a_1t",
        "figs3b_0t",
        "figs3b_0d2t",
        "figs3b_0d4t",
        "figs3b_0d6t",
        "figs3b_0d8t",
        "figs3b_1t",
        "figs4b",
        "figs4c",
        "figs4d",
        "figs4f",
        "figs5b",
        "figs5c",
        "figs6a_left",
        "figs6a_right",
        "figs6c_left",
        "figs6c_right",
        "figs7b"
       ],
       "index": 0,
       "layout": "IPY_MODEL_6b873403609c4d0d83b6d65eac823f70",
       "style": "IPY_MODEL_ce07cb5c3205415b977744c311fad84e"
      }
     },
     "d4251bf4de3f48559f9aab637f893a2c": {
      "model_module": "@jupyter-widgets/base",
      "model_module_version": "1.2.0",
      "model_name": "LayoutModel",
      "state": {}
     },
     "d58d235cc23c4bec8cd745d42bed857b": {
      "model_module": "@jupyter-widgets/controls",
      "model_module_version": "1.5.0",
      "model_name": "DescriptionStyleModel",
      "state": {
       "description_width": ""
      }
     },
     "d8ccd53840f5482fa890ad4c7f75491c": {
      "model_module": "@jupyter-widgets/controls",
      "model_module_version": "1.5.0",
      "model_name": "VBoxModel",
      "state": {
       "children": [
        "IPY_MODEL_a2eb36ffaa574386b3d40e15c919cb8c",
        "IPY_MODEL_856affd403af45c597f32a4992e34edc"
       ],
       "layout": "IPY_MODEL_31d007ff1d5c421fa236886287bc1740"
      }
     },
     "d9bb2e64edce477e9cdd4e1a2bd23d25": {
      "model_module": "@jupyter-widgets/controls",
      "model_module_version": "1.5.0",
      "model_name": "VBoxModel",
      "state": {
       "children": [
        "IPY_MODEL_8a53bef3def649ee965792e1de9a9051",
        "IPY_MODEL_d11c4ee3aee545bb94407bb5e97eb36f"
       ],
       "layout": "IPY_MODEL_4bd907e8a88d4ae1a08222706b62c1b4"
      }
     },
     "da19fa39346842d6a72f3000b00cfaf1": {
      "model_module": "jupyter-matplotlib",
      "model_module_version": "^0.7.2",
      "model_name": "ToolbarModel",
      "state": {
       "layout": "IPY_MODEL_2dc1e4a267824c1f98ee051a9a3ede29",
       "toolitems": [
        [
         "Home",
         "Reset original view",
         "home",
         "home"
        ],
        [
         "Back",
         "Back to previous view",
         "arrow-left",
         "back"
        ],
        [
         "Forward",
         "Forward to next view",
         "arrow-right",
         "forward"
        ],
        [
         "Pan",
         "Pan axes with left mouse, zoom with right",
         "arrows",
         "pan"
        ],
        [
         "Zoom",
         "Zoom to rectangle",
         "square-o",
         "zoom"
        ],
        [
         "Download",
         "Download plot",
         "floppy-o",
         "save_figure"
        ]
       ]
      }
     },
     "dc1d7befd7d94daf8119893bbb679fec": {
      "model_module": "@jupyter-widgets/base",
      "model_module_version": "1.2.0",
      "model_name": "LayoutModel",
      "state": {}
     },
     "dc2455611ad6464ba3ffde61ea83a7e0": {
      "model_module": "@jupyter-widgets/controls",
      "model_module_version": "1.5.0",
      "model_name": "IntSliderModel",
      "state": {
       "description": "gamma",
       "layout": "IPY_MODEL_ed04585818f7453dbb0745c9b41db16f",
       "min": -100,
       "step": 10,
       "style": "IPY_MODEL_a72d671ebe5f4bfea3a29b5d1b5034d6"
      }
     },
     "dfdfbd1c8d2c44aab40d61221788f483": {
      "model_module": "@jupyter-widgets/base",
      "model_module_version": "1.2.0",
      "model_name": "LayoutModel",
      "state": {}
     },
     "dffaaf75bbf64d388e7037b14ae57ee8": {
      "model_module": "@jupyter-widgets/base",
      "model_module_version": "1.2.0",
      "model_name": "LayoutModel",
      "state": {}
     },
     "e25f76fa27eb4fd0a48158e5e20573ca": {
      "model_module": "@jupyter-widgets/base",
      "model_module_version": "1.2.0",
      "model_name": "LayoutModel",
      "state": {}
     },
     "e46badf2bbfe4b4ba137ed88d49e2e25": {
      "model_module": "@jupyter-widgets/controls",
      "model_module_version": "1.5.0",
      "model_name": "SliderStyleModel",
      "state": {
       "description_width": ""
      }
     },
     "e5536598c08d41869b782236a744796a": {
      "model_module": "@jupyter-widgets/controls",
      "model_module_version": "1.5.0",
      "model_name": "ButtonModel",
      "state": {
       "description": "To mtx",
       "layout": "IPY_MODEL_2b25910a4bc04416a1c6fefee3f9c03e",
       "style": "IPY_MODEL_f7d63aea779c46b29d00e657228d3f44"
      }
     },
     "e58dec5e068748b5936c6ab1a98cc7ad": {
      "model_module": "@jupyter-widgets/base",
      "model_module_version": "1.2.0",
      "model_name": "LayoutModel",
      "state": {}
     },
     "e5c80062650d43d9abe33ebf7d26386a": {
      "model_module": "jupyter-matplotlib",
      "model_module_version": "^0.7.2",
      "model_name": "ToolbarModel",
      "state": {
       "layout": "IPY_MODEL_dffaaf75bbf64d388e7037b14ae57ee8",
       "toolitems": [
        [
         "Home",
         "Reset original view",
         "home",
         "home"
        ],
        [
         "Back",
         "Back to previous view",
         "arrow-left",
         "back"
        ],
        [
         "Forward",
         "Forward to next view",
         "arrow-right",
         "forward"
        ],
        [
         "Pan",
         "Pan axes with left mouse, zoom with right",
         "arrows",
         "pan"
        ],
        [
         "Zoom",
         "Zoom to rectangle",
         "square-o",
         "zoom"
        ],
        [
         "Download",
         "Download plot",
         "floppy-o",
         "save_figure"
        ]
       ]
      }
     },
     "e5eb2d60dc7a4c498c9ee4346d8ecbda": {
      "model_module": "@jupyter-widgets/controls",
      "model_module_version": "1.5.0",
      "model_name": "IntSliderModel",
      "state": {
       "description": "gamma",
       "layout": "IPY_MODEL_4554aa8444634eff9ed03a156987a2e1",
       "min": -100,
       "step": 10,
       "style": "IPY_MODEL_edaa659e9dc04cfab74b85c6baf49e71"
      }
     },
     "eb6c8334b21947f4acf1780f825f81e2": {
      "model_module": "@jupyter-widgets/base",
      "model_module_version": "1.2.0",
      "model_name": "LayoutModel",
      "state": {}
     },
     "ed04585818f7453dbb0745c9b41db16f": {
      "model_module": "@jupyter-widgets/base",
      "model_module_version": "1.2.0",
      "model_name": "LayoutModel",
      "state": {}
     },
     "edaa659e9dc04cfab74b85c6baf49e71": {
      "model_module": "@jupyter-widgets/controls",
      "model_module_version": "1.5.0",
      "model_name": "SliderStyleModel",
      "state": {
       "description_width": ""
      }
     },
     "f10dc3d0761f4734a1e3ca109e6dd61c": {
      "model_module": "@jupyter-widgets/controls",
      "model_module_version": "1.5.0",
      "model_name": "FloatRangeSliderModel",
      "state": {
       "_model_name": "FloatRangeSliderModel",
       "_view_name": "FloatRangeSliderView",
       "description": "limit",
       "layout": "IPY_MODEL_48c1a8b47b7a4f52b3e3e2742a282e08",
       "max": 0.23514667026040503,
       "min": 0.00021523256339926245,
       "step": 0.01174657188485029,
       "style": "IPY_MODEL_e46badf2bbfe4b4ba137ed88d49e2e25",
       "value": [
        0.00021523256339926245,
        0.23514667026040503
       ]
      }
     },
     "f238cd4f693e4bc5893838a433e4f64b": {
      "model_module": "@jupyter-widgets/controls",
      "model_module_version": "1.5.0",
      "model_name": "FloatSliderModel",
      "state": {
       "description": "y",
       "layout": "IPY_MODEL_3250f049c2ae458095a56bba92a9ed4b",
       "max": 1.43,
       "min": -1.43,
       "step": 0.020000000000000018,
       "style": "IPY_MODEL_f5e1d24c430a42f8ab992575b1410c67"
      }
     },
     "f24b0b20ac1d480099074a645fc814f7": {
      "model_module": "@jupyter-widgets/controls",
      "model_module_version": "1.5.0",
      "model_name": "ComboboxModel",
      "state": {
       "description": "colormap:",
       "ensure_option": false,
       "layout": "IPY_MODEL_e25f76fa27eb4fd0a48158e5e20573ca",
       "options": [
        "Accent",
        "Accent_r",
        "Blues",
        "Blues_r",
        "BrBG",
        "BrBG_r",
        "BuGn",
        "BuGn_r",
        "BuPu",
        "BuPu_r",
        "CMRmap",
        "CMRmap_r",
        "Dark2",
        "Dark2_r",
        "GnBu",
        "GnBu_r",
        "Greens",
        "Greens_r",
        "Greys",
        "Greys_r",
        "OrRd",
        "OrRd_r",
        "Oranges",
        "Oranges_r",
        "PRGn",
        "PRGn_r",
        "Paired",
        "Paired_r",
        "Pastel1",
        "Pastel1_r",
        "Pastel2",
        "Pastel2_r",
        "PiYG",
        "PiYG_r",
        "PuBu",
        "PuBuGn",
        "PuBuGn_r",
        "PuBu_r",
        "PuOr",
        "PuOr_r",
        "PuRd",
        "PuRd_r",
        "Purples",
        "Purples_r",
        "RdBu",
        "RdBu_r",
        "RdGy",
        "RdGy_r",
        "RdPu",
        "RdPu_r",
        "RdYlBu",
        "RdYlBu_r",
        "RdYlGn",
        "RdYlGn_r",
        "Reds",
        "Reds_r",
        "Set1",
        "Set1_r",
        "Set2",
        "Set2_r",
        "Set3",
        "Set3_r",
        "Spectral",
        "Spectral_r",
        "Wistia",
        "Wistia_r",
        "YlGn",
        "YlGnBu",
        "YlGnBu_r",
        "YlGn_r",
        "YlOrBr",
        "YlOrBr_r",
        "YlOrRd",
        "YlOrRd_r",
        "afmhot",
        "afmhot_r",
        "autumn",
        "autumn_r",
        "binary",
        "binary_r",
        "bone",
        "bone_r",
        "brg",
        "brg_r",
        "bwr",
        "bwr_r",
        "cividis",
        "cividis_r",
        "cool",
        "cool_r",
        "coolwarm",
        "coolwarm_r",
        "copper",
        "copper_r",
        "cubehelix",
        "cubehelix_r",
        "flag",
        "flag_r",
        "gist_earth",
        "gist_earth_r",
        "gist_gray",
        "gist_gray_r",
        "gist_heat",
        "gist_heat_r",
        "gist_ncar",
        "gist_ncar_r",
        "gist_rainbow",
        "gist_rainbow_r",
        "gist_stern",
        "gist_stern_r",
        "gist_yarg",
        "gist_yarg_r",
        "gnuplot",
        "gnuplot2",
        "gnuplot2_r",
        "gnuplot_r",
        "gray",
        "gray_r",
        "hot",
        "hot_r",
        "hsv",
        "hsv_r",
        "inferno",
        "inferno_r",
        "jet",
        "jet_r",
        "magma",
        "magma_r",
        "nipy_spectral",
        "nipy_spectral_r",
        "ocean",
        "ocean_r",
        "pink",
        "pink_r",
        "plasma",
        "plasma_r",
        "prism",
        "prism_r",
        "rainbow",
        "rainbow_r",
        "seismic",
        "seismic_r",
        "spring",
        "spring_r",
        "summer",
        "summer_r",
        "tab10",
        "tab10_r",
        "tab20",
        "tab20_r",
        "tab20b",
        "tab20b_r",
        "tab20c",
        "tab20c_r",
        "terrain",
        "terrain_r",
        "twilight",
        "twilight_r",
        "twilight_shifted",
        "twilight_shifted_r",
        "viridis",
        "viridis_r",
        "winter",
        "winter_r"
       ],
       "placeholder": "Choose or type",
       "style": "IPY_MODEL_d58d235cc23c4bec8cd745d42bed857b"
      }
     },
     "f3ca37b9940649b8a281a42fe4558e32": {
      "model_module": "@jupyter-widgets/controls",
      "model_module_version": "1.5.0",
      "model_name": "VBoxModel",
      "state": {
       "children": [
        "IPY_MODEL_7aeeed1322f5473da096a1aac0e09023",
        "IPY_MODEL_8959c26baa414480a5d07c3f2fa6a0ea"
       ],
       "layout": "IPY_MODEL_91147b4c4c164480ad131cdff3592b61"
      }
     },
     "f4eb3a19bcf84083b33766ed7a18a36d": {
      "model_module": "@jupyter-widgets/controls",
      "model_module_version": "1.5.0",
      "model_name": "FloatRangeSliderModel",
      "state": {
       "_model_name": "FloatRangeSliderModel",
       "_view_name": "FloatRangeSliderView",
       "description": "limit",
       "layout": "IPY_MODEL_e58dec5e068748b5936c6ab1a98cc7ad",
       "max": 0.23514667026040503,
       "min": 0.00021523256339926245,
       "step": 0.01174657188485029,
       "style": "IPY_MODEL_9aec8122133c4335b27633c1a1b3636e",
       "value": [
        0.00021523256339926245,
        0.23514667026040503
       ]
      }
     },
     "f58cb4ec42d94d9e9ebc1ae99e321042": {
      "model_module": "@jupyter-widgets/base",
      "model_module_version": "1.2.0",
      "model_name": "LayoutModel",
      "state": {}
     },
     "f5e1d24c430a42f8ab992575b1410c67": {
      "model_module": "@jupyter-widgets/controls",
      "model_module_version": "1.5.0",
      "model_name": "SliderStyleModel",
      "state": {
       "description_width": ""
      }
     },
     "f6fde4efcf9949c39dc2ac91baa57207": {
      "model_module": "@jupyter-widgets/base",
      "model_module_version": "1.2.0",
      "model_name": "LayoutModel",
      "state": {}
     },
     "f7d63aea779c46b29d00e657228d3f44": {
      "model_module": "@jupyter-widgets/controls",
      "model_module_version": "1.5.0",
      "model_name": "ButtonStyleModel",
      "state": {}
     },
     "fcbc71ff2dad4949b516e285c933b92c": {
      "model_module": "@jupyter-widgets/base",
      "model_module_version": "1.2.0",
      "model_name": "LayoutModel",
      "state": {}
     }
    },
    "version_major": 2,
    "version_minor": 0
   }
  }
 },
 "nbformat": 4,
 "nbformat_minor": 4
}
