{
 "cells": [
  {
   "cell_type": "code",
   "execution_count": 4,
   "metadata": {},
   "outputs": [
    {
     "data": {
      "application/vnd.jupyter.widget-view+json": {
       "model_id": "f18cfef4259840a8aea52042f72135b7",
       "version_major": 2,
       "version_minor": 0
      },
      "text/plain": [
       "interactive(children=(IntSlider(value=0, description='gamma', min=-100, step=5), FloatSlider(value=2.0, descri…"
      ]
     },
     "metadata": {},
     "output_type": "display_data"
    }
   ],
   "source": [
    "from qtplotter import *# make sure qtplotter.py is in the same folder as this notebook\n",
    "\n",
    "# file list\n",
    "flist = {'fig1d':'Fig1D.mtx',\n",
    "        'fig2b':'Fig2B.mtx'}\n",
    "for i in flist: flist[i] = 'https://arxiv.org/src/1912.06071v1/anc/'+flist[i]\n",
    "\n",
    "play2d(flist['fig1d'])"
   ]
  },
  {
   "cell_type": "code",
   "execution_count": null,
   "metadata": {},
   "outputs": [],
   "source": []
  }
 ],
 "metadata": {
  "kernelspec": {
   "display_name": "Python 3",
   "language": "python",
   "name": "python3"
  },
  "language_info": {
   "codemirror_mode": {
    "name": "ipython",
    "version": 3
   },
   "file_extension": ".py",
   "mimetype": "text/x-python",
   "name": "python",
   "nbconvert_exporter": "python",
   "pygments_lexer": "ipython3",
   "version": "3.7.6"
  }
 },
 "nbformat": 4,
 "nbformat_minor": 4
}
